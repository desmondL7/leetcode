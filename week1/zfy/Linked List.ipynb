{
 "cells": [
  {
   "cell_type": "markdown",
   "metadata": {},
   "source": [
    "#  从尾到头打印链表 20200817"
   ]
  },
  {
   "cell_type": "raw",
   "metadata": {},
   "source": [
    "class Solution:\n",
    "    def reversePrint(self, head: ListNode) -> List[int]:\n",
    "        ret=[]\n",
    "        while head:\n",
    "            ret.append(head.val)\n",
    "            head=head.next\n",
    "        return ret[::-1]"
   ]
  },
  {
   "cell_type": "markdown",
   "metadata": {},
   "source": [
    "# 链表中倒数第k个节点 20200825"
   ]
  },
  {
   "cell_type": "raw",
   "metadata": {},
   "source": [
    "class Solution:\n",
    "    def getKthFromEnd(self, head: ListNode, k: int) -> ListNode:\n",
    "        formar=head\n",
    "        for i in range(0,k):\n",
    "            formar=formar.next\n",
    "        latter=head\n",
    "        while formar:\n",
    "            formar=formar.next\n",
    "            latter=latter.next\n",
    "        return latter"
   ]
  },
  {
   "cell_type": "markdown",
   "metadata": {},
   "source": [
    "# 24. 反转链表 20200825"
   ]
  },
  {
   "cell_type": "raw",
   "metadata": {},
   "source": [
    "class Solution:\n",
    "    def reverseList(self, head: ListNode) -> ListNode:\n",
    "        now=head\n",
    "        reverse=None\n",
    "        while now:\n",
    "            formar=now\n",
    "            now=now.next\n",
    "            formar.next=reverse\n",
    "            reverse=formar\n",
    "        return reverse"
   ]
  },
  {
   "cell_type": "markdown",
   "metadata": {},
   "source": [
    "# 18. 删除链表的节点 20200826"
   ]
  },
  {
   "cell_type": "raw",
   "metadata": {},
   "source": [
    "class Solution:\n",
    "    def deleteNode(self, head: ListNode, val: int) -> ListNode:\n",
    "        if head.val==val:\n",
    "            return head.next\n",
    "        now=head\n",
    "        while now:\n",
    "            if now.val==val:\n",
    "                tmp.next=now.next\n",
    "                break\n",
    "            tmp=now\n",
    "            now=now.next\n",
    "        return head"
   ]
  },
  {
   "cell_type": "markdown",
   "metadata": {},
   "source": [
    "# 35. 复杂链表的复制 20200829"
   ]
  },
  {
   "cell_type": "raw",
   "metadata": {},
   "source": [
    "class Solution:\n",
    "    def copyRandomList(self, head: 'Node') -> 'Node':\n",
    "        cur=head\n",
    "        hsh={None:None}\n",
    "        while cur:\n",
    "            hsh[cur]=Node(cur.val)\n",
    "            cur=cur.next\n",
    "        cur=head\n",
    "        while cur:\n",
    "            hsh[cur].next=hsh[cur.next]\n",
    "            hsh[cur].random=hsh[cur.random]\n",
    "            cur=cur.next\n",
    "        return hsh[head]"
   ]
  },
  {
   "cell_type": "markdown",
   "metadata": {},
   "source": [
    "# 52. 两个链表的第一个公共节点"
   ]
  },
  {
   "cell_type": "raw",
   "metadata": {},
   "source": [
    "class Solution:\n",
    "    def getIntersectionNode(self, headA: ListNode, headB: ListNode) -> ListNode:\n",
    "        node1,node2=headA,headB\n",
    "        while node1!=node2:\n",
    "            node1=node1.next if node1 else headB\n",
    "            node2=node2.next if node2 else headA\n",
    "        return node1"
   ]
  }
 ],
 "metadata": {
  "kernelspec": {
   "display_name": "Python 3",
   "language": "python",
   "name": "python3"
  },
  "language_info": {
   "codemirror_mode": {
    "name": "ipython",
    "version": 3
   },
   "file_extension": ".py",
   "mimetype": "text/x-python",
   "name": "python",
   "nbconvert_exporter": "python",
   "pygments_lexer": "ipython3",
   "version": "3.7.4"
  }
 },
 "nbformat": 4,
 "nbformat_minor": 2
}
