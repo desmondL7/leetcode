{
 "cells": [
  {
   "cell_type": "markdown",
   "metadata": {},
   "source": [
    "# 09. 用两个栈实现队列 20200905"
   ]
  },
  {
   "cell_type": "raw",
   "metadata": {},
   "source": [
    "class CQueue:\n",
    "\n",
    "    def __init__(self):\n",
    "        self.a,self.b=[],[]\n",
    "\n",
    "    def appendTail(self, value: int) -> None:\n",
    "        self.a.append(value)\n",
    "\n",
    "    def deleteHead(self) -> int:\n",
    "        if not self.b:\n",
    "            if not self.a:\n",
    "                return -1\n",
    "            else:\n",
    "                while self.a :\n",
    "                    self.b.append(self.a.pop())\n",
    "        return self.b.pop()"
   ]
  },
  {
   "cell_type": "markdown",
   "metadata": {},
   "source": [
    "# 30. 包含min函数的栈 20200905"
   ]
  },
  {
   "cell_type": "raw",
   "metadata": {},
   "source": [
    "class MinStack:\n",
    "\n",
    "    def __init__(self):\n",
    "        \"\"\"\n",
    "        initialize your data structure here.\n",
    "        \"\"\"\n",
    "        self.a=[]\n",
    "        self.mini=[]\n",
    "\n",
    "\n",
    "    def push(self, x: int) -> None:\n",
    "        self.a.append(x)\n",
    "        if not self.mini or x<self.mini[-1]:\n",
    "            self.mini.append(x)\n",
    "        else:\n",
    "            self.mini.append(self.mini[-1])\n",
    "\n",
    "    def pop(self) -> None:\n",
    "        self.mini.pop()\n",
    "        return self.a.pop()\n",
    "\n",
    "    def top(self) -> int:\n",
    "        return self.a[-1]\n",
    "\n",
    "\n",
    "    def min(self) -> int:\n",
    "        return self.mini[-1]"
   ]
  },
  {
   "cell_type": "markdown",
   "metadata": {},
   "source": [
    "# 59 - I. 滑动窗口的最大值 20200905"
   ]
  },
  {
   "cell_type": "raw",
   "metadata": {},
   "source": [
    "class Solution:\n",
    "    def maxSlidingWindow(self, nums: List[int], k: int) -> List[int]:\n",
    "        dequene=[]\n",
    "        ret=[]\n",
    "        for i,j in zip(range(1-k,len(nums)+1-k),range(len(nums))):\n",
    "            if i>0 and nums[i-1]==dequene[0]:\n",
    "                dequene.pop(0)\n",
    "            while dequene and dequene[-1]<nums[j]:\n",
    "                dequene.pop()\n",
    "            dequene.append(nums[j])\n",
    "            if i>=0:\n",
    "                ret.append(dequene[0])\n",
    "        return ret"
   ]
  },
  {
   "cell_type": "markdown",
   "metadata": {},
   "source": [
    "#  59 - II. 队列的最大值 20200905"
   ]
  },
  {
   "cell_type": "raw",
   "metadata": {},
   "source": [
    "class MaxQueue:\n",
    "\n",
    "    def __init__(self):\n",
    "        self.a,self.max1=[],[]\n",
    "\n",
    "    def max_value(self) -> int:\n",
    "        if self.a:\n",
    "            return self.max1[0]\n",
    "        else:\n",
    "            return -1\n",
    "    def push_back(self, value: int) -> None:\n",
    "        self.a.append(value)\n",
    "        while self.max1 and self.max1[-1]<value:\n",
    "            self.max1.pop()\n",
    "        self.max1.append(value)\n",
    "    def pop_front(self) -> int:\n",
    "        if self.a:\n",
    "            if self.a[0]==self.max1[0]:\n",
    "                self.max1.pop(0) \n",
    "            return  self.a.pop(0)\n",
    "        else:\n",
    "            return -1"
   ]
  },
  {
   "cell_type": "code",
   "execution_count": 2,
   "metadata": {},
   "outputs": [
    {
     "name": "stdout",
     "output_type": "stream",
     "text": [
      "2\n"
     ]
    }
   ],
   "source": [
    "a=[]\n",
    "if a:\n",
    "    print(1)\n",
    "if a is not None:\n",
    "    print(2)"
   ]
  }
 ],
 "metadata": {
  "kernelspec": {
   "display_name": "Python 3",
   "language": "python",
   "name": "python3"
  },
  "language_info": {
   "codemirror_mode": {
    "name": "ipython",
    "version": 3
   },
   "file_extension": ".py",
   "mimetype": "text/x-python",
   "name": "python",
   "nbconvert_exporter": "python",
   "pygments_lexer": "ipython3",
   "version": "3.7.4"
  }
 },
 "nbformat": 4,
 "nbformat_minor": 2
}
