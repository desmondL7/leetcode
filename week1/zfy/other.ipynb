{
 "cells": [
  {
   "cell_type": "markdown",
   "metadata": {},
   "source": [
    "# 03. 数组中重复的数字 20200906"
   ]
  },
  {
   "cell_type": "raw",
   "metadata": {},
   "source": [
    "class Solution:\n",
    "    def findRepeatNumber(self, nums: List[int]) -> int:\n",
    "        dic={}\n",
    "        for i in nums:\n",
    "            if i in dic.keys():\n",
    "                return i\n",
    "            else:\n",
    "                dic[i]=1"
   ]
  },
  {
   "cell_type": "markdown",
   "metadata": {},
   "source": [
    "# 04. 二维数组中的查找 20200906"
   ]
  },
  {
   "cell_type": "raw",
   "metadata": {},
   "source": [
    "class Solution:\n",
    "    def findNumberIn2DArray(self, matrix: List[List[int]], target: int) -> bool:\n",
    "        if matrix:\n",
    "            l1=len(matrix)\n",
    "            l2=len(matrix[0])\n",
    "            i,j=0,l2-1\n",
    "            while j>=0 and i<l1:\n",
    "                if matrix[i][j]==target:\n",
    "                    return True\n",
    "                elif matrix[i][j]<target:\n",
    "                    i+=1\n",
    "                else:\n",
    "                    j-=1\n",
    "        return False"
   ]
  },
  {
   "cell_type": "markdown",
   "metadata": {},
   "source": [
    "# 05. 替换空格 20200906\n"
   ]
  },
  {
   "cell_type": "raw",
   "metadata": {},
   "source": [
    "class Solution:\n",
    "    def replaceSpace(self, s: str) -> str:\n",
    "        res=[]\n",
    "        for i in s:\n",
    "            if i==\" \":\n",
    "                res.append(\"%20\")\n",
    "            else:\n",
    "                res.append(i)\n",
    "        return \"\".join(res)"
   ]
  },
  {
   "cell_type": "markdown",
   "metadata": {},
   "source": [
    "# I. 斐波那契数列 20200906"
   ]
  },
  {
   "cell_type": "raw",
   "metadata": {},
   "source": [
    "class Solution:\n",
    "    def fib(self, n: int) -> int:\n",
    "        a,b=0,1\n",
    "        for i in range(2,n+1):\n",
    "            a,b=b,a+b\n",
    "        if n==0:\n",
    "            return 0\n",
    "        return b%1000000007"
   ]
  },
  {
   "cell_type": "markdown",
   "metadata": {},
   "source": [
    "# 10- II. 青蛙跳台阶问题 20200907"
   ]
  },
  {
   "cell_type": "raw",
   "metadata": {},
   "source": [
    "class Solution:\n",
    "    def numWays(self, n: int) -> int:\n",
    "        a,b=1,1\n",
    "        for i in range(n):\n",
    "            a,b=b,a+b\n",
    "        return a%1000000007"
   ]
  },
  {
   "cell_type": "markdown",
   "metadata": {},
   "source": [
    "# 11. 旋转数组的最小数字 20200907"
   ]
  },
  {
   "cell_type": "raw",
   "metadata": {},
   "source": [
    "class Solution:\n",
    "    def minArray(self, numbers: List[int]) -> int:\n",
    "        i=0\n",
    "        while i<len(numbers)-1:\n",
    "            if numbers[i]<=numbers[i+1]:\n",
    "                i+=1\n",
    "            else:\n",
    "                return numbers[i+1]\n",
    "        return numbers[0]"
   ]
  },
  {
   "cell_type": "code",
   "execution_count": 3,
   "metadata": {},
   "outputs": [
    {
     "name": "stdout",
     "output_type": "stream",
     "text": [
      "a\n",
      " \n",
      "s\n"
     ]
    }
   ],
   "source": [
    "a=\"a s\"\n",
    "for i in a:\n",
    "    print(i)"
   ]
  }
 ],
 "metadata": {
  "kernelspec": {
   "display_name": "Python 3",
   "language": "python",
   "name": "python3"
  },
  "language_info": {
   "codemirror_mode": {
    "name": "ipython",
    "version": 3
   },
   "file_extension": ".py",
   "mimetype": "text/x-python",
   "name": "python",
   "nbconvert_exporter": "python",
   "pygments_lexer": "ipython3",
   "version": "3.7.4"
  }
 },
 "nbformat": 4,
 "nbformat_minor": 2
}
